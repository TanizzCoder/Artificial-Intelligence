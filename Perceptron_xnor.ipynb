{
  "nbformat": 4,
  "nbformat_minor": 0,
  "metadata": {
    "colab": {
      "provenance": [],
      "authorship_tag": "ABX9TyMRqHpxNF1+k9+NOH+GWwDH",
      "include_colab_link": true
    },
    "kernelspec": {
      "name": "python3",
      "display_name": "Python 3"
    },
    "language_info": {
      "name": "python"
    }
  },
  "cells": [
    {
      "cell_type": "markdown",
      "metadata": {
        "id": "view-in-github",
        "colab_type": "text"
      },
      "source": [
        "<a href=\"https://colab.research.google.com/github/TanizzCoder/Artificial-Intelligence/blob/main/Perceptron_xnor.ipynb\" target=\"_parent\"><img src=\"https://colab.research.google.com/assets/colab-badge.svg\" alt=\"Open In Colab\"/></a>"
      ]
    },
    {
      "cell_type": "code",
      "execution_count": 2,
      "metadata": {
        "colab": {
          "base_uri": "https://localhost:8080/"
        },
        "id": "Au9X68oC3_tM",
        "outputId": "d24a36e7-db7c-4ce4-c235-68dc18ac0e5a"
      },
      "outputs": [
        {
          "output_type": "stream",
          "name": "stdout",
          "text": [
            "XNOR(0, 0) = 1\n",
            "XNOR(0, 1) = 0\n",
            "XNOR(1, 0) = 0\n",
            "XNOR(1, 1) = 1\n"
          ]
        }
      ],
      "source": [
        "\n",
        "# importing Python library\n",
        "import numpy as np\n",
        "  \n",
        "# define Unit Step Function\n",
        "def unitStep(v):\n",
        "    if v <= 0:\n",
        "        return 0\n",
        "    else:\n",
        "        return 1\n",
        "  \n",
        "# design Perceptron Model\n",
        "def perceptronModel(x, w, b):\n",
        "    v = np.dot(w, x) + b\n",
        "    y = unitStep(v)\n",
        "    return y\n",
        "  \n",
        "# OR Logic Function\n",
        "# w1 = 1, w2 = 1, b = -0.5\n",
        "def AND_logicFunction(x):\n",
        "    w = np.array([1, 1])\n",
        "    b = -1\n",
        "    return perceptronModel(x, w, b)\n",
        "def XNOR_logicFunction(x):\n",
        "    x1=AND_logicFunction(x)\n",
        "    x2=NOR_logicFunction(x)\n",
        "    x3=np.array([x1,x2])\n",
        "    w=np.array([2,2])\n",
        "    b=-1\n",
        "    return perceptronModel(x3,w,b)\n",
        "def NOR_logicFunction(x):\n",
        "    w=np.array([-1,-1])\n",
        "    b=1\n",
        "    return perceptronModel(x,w,b)\n",
        "\n",
        "# testing the Perceptron Model\n",
        "test1 = np.array([0, 0])\n",
        "test2 = np.array([0, 1])\n",
        "test3 = np.array([1, 0])\n",
        "test4 = np.array([1, 1])\n",
        "print(\"XNOR({}, {}) = {}\".format(0, 0, XNOR_logicFunction(test1)))\n",
        "print(\"XNOR({}, {}) = {}\".format(0, 1, XNOR_logicFunction(test2)))\n",
        "print(\"XNOR({}, {}) = {}\".format(1, 0, XNOR_logicFunction(test3)))\n",
        "print(\"XNOR({}, {}) = {}\".format(1, 1, XNOR_logicFunction(test4)))"
      ]
    }
  ]
}